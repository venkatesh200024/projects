{
  "cells": [
    {
      "cell_type": "markdown",
      "source": [
        "### Twitter Sentiment Analyis"
      ],
      "metadata": {
        "id": "s2UPCFs6BLwT"
      }
    },
    {
      "cell_type": "markdown",
      "source": [
        "Connect to Google Drive"
      ],
      "metadata": {
        "id": "MKxSRA35BT4u"
      }
    },
    {
      "cell_type": "code",
      "execution_count": null,
      "metadata": {
        "colab": {
          "base_uri": "https://localhost:8080/"
        },
        "id": "yWKj6jDnJ3E_",
        "outputId": "1e04d6c6-38f5-4b9a-8bd0-6ef0e43a8e61"
      },
      "outputs": [
        {
          "output_type": "stream",
          "name": "stdout",
          "text": [
            "Mounted at /content/drive\n",
            "/content/drive/MyDrive/Colab Notebooks/Data\n"
          ]
        }
      ],
      "source": [
        "# Connect to google drive\n",
        "from google.colab import drive\n",
        "drive.mount('/content/drive')\n",
        "%cd /content/drive/MyDrive/Colab Notebooks/Data"
      ]
    },
    {
      "cell_type": "markdown",
      "source": [
        "Install packages"
      ],
      "metadata": {
        "id": "7EI80-q2BWJf"
      }
    },
    {
      "cell_type": "code",
      "execution_count": null,
      "metadata": {
        "id": "hvTZVwI3J5rn",
        "colab": {
          "base_uri": "https://localhost:8080/"
        },
        "outputId": "9ce75671-5197-49ca-a5a0-fea03ecee202"
      },
      "outputs": [
        {
          "output_type": "stream",
          "name": "stdout",
          "text": [
            "Looking in indexes: https://pypi.org/simple, https://us-python.pkg.dev/colab-wheels/public/simple/\n",
            "Requirement already satisfied: vaderSentiment in /usr/local/lib/python3.10/dist-packages (3.3.2)\n",
            "Requirement already satisfied: requests in /usr/local/lib/python3.10/dist-packages (from vaderSentiment) (2.27.1)\n",
            "Requirement already satisfied: urllib3<1.27,>=1.21.1 in /usr/local/lib/python3.10/dist-packages (from requests->vaderSentiment) (1.26.15)\n",
            "Requirement already satisfied: charset-normalizer~=2.0.0 in /usr/local/lib/python3.10/dist-packages (from requests->vaderSentiment) (2.0.12)\n",
            "Requirement already satisfied: idna<4,>=2.5 in /usr/local/lib/python3.10/dist-packages (from requests->vaderSentiment) (3.4)\n",
            "Requirement already satisfied: certifi>=2017.4.17 in /usr/local/lib/python3.10/dist-packages (from requests->vaderSentiment) (2022.12.7)\n",
            "Looking in indexes: https://pypi.org/simple, https://us-python.pkg.dev/colab-wheels/public/simple/\n",
            "Requirement already satisfied: transformers in /usr/local/lib/python3.10/dist-packages (4.28.1)\n",
            "Requirement already satisfied: tokenizers!=0.11.3,<0.14,>=0.11.1 in /usr/local/lib/python3.10/dist-packages (from transformers) (0.13.3)\n",
            "Requirement already satisfied: tqdm>=4.27 in /usr/local/lib/python3.10/dist-packages (from transformers) (4.65.0)\n",
            "Requirement already satisfied: numpy>=1.17 in /usr/local/lib/python3.10/dist-packages (from transformers) (1.22.4)\n",
            "Requirement already satisfied: packaging>=20.0 in /usr/local/lib/python3.10/dist-packages (from transformers) (23.1)\n",
            "Requirement already satisfied: huggingface-hub<1.0,>=0.11.0 in /usr/local/lib/python3.10/dist-packages (from transformers) (0.14.1)\n",
            "Requirement already satisfied: requests in /usr/local/lib/python3.10/dist-packages (from transformers) (2.27.1)\n",
            "Requirement already satisfied: filelock in /usr/local/lib/python3.10/dist-packages (from transformers) (3.12.0)\n",
            "Requirement already satisfied: regex!=2019.12.17 in /usr/local/lib/python3.10/dist-packages (from transformers) (2022.10.31)\n",
            "Requirement already satisfied: pyyaml>=5.1 in /usr/local/lib/python3.10/dist-packages (from transformers) (6.0)\n",
            "Requirement already satisfied: typing-extensions>=3.7.4.3 in /usr/local/lib/python3.10/dist-packages (from huggingface-hub<1.0,>=0.11.0->transformers) (4.5.0)\n",
            "Requirement already satisfied: fsspec in /usr/local/lib/python3.10/dist-packages (from huggingface-hub<1.0,>=0.11.0->transformers) (2023.4.0)\n",
            "Requirement already satisfied: urllib3<1.27,>=1.21.1 in /usr/local/lib/python3.10/dist-packages (from requests->transformers) (1.26.15)\n",
            "Requirement already satisfied: certifi>=2017.4.17 in /usr/local/lib/python3.10/dist-packages (from requests->transformers) (2022.12.7)\n",
            "Requirement already satisfied: charset-normalizer~=2.0.0 in /usr/local/lib/python3.10/dist-packages (from requests->transformers) (2.0.12)\n",
            "Requirement already satisfied: idna<4,>=2.5 in /usr/local/lib/python3.10/dist-packages (from requests->transformers) (3.4)\n",
            "Looking in indexes: https://pypi.org/simple, https://us-python.pkg.dev/colab-wheels/public/simple/\n",
            "Collecting langdetect\n",
            "  Downloading langdetect-1.0.9.tar.gz (981 kB)\n",
            "\u001b[2K     \u001b[90m━━━━━━━━━━━━━━━━━━━━━━━━━━━━━━━━━━━━━━\u001b[0m \u001b[32m981.5/981.5 kB\u001b[0m \u001b[31m32.8 MB/s\u001b[0m eta \u001b[36m0:00:00\u001b[0m\n",
            "\u001b[?25h  Preparing metadata (setup.py) ... \u001b[?25l\u001b[?25hdone\n",
            "Requirement already satisfied: six in /usr/local/lib/python3.10/dist-packages (from langdetect) (1.16.0)\n",
            "Building wheels for collected packages: langdetect\n",
            "  Building wheel for langdetect (setup.py) ... \u001b[?25l\u001b[?25hdone\n",
            "  Created wheel for langdetect: filename=langdetect-1.0.9-py3-none-any.whl size=993243 sha256=4af6b4c31d5f92ca8a9d5c62c84f0f073b007fc0403ef95ac96476e151604fea\n",
            "  Stored in directory: /root/.cache/pip/wheels/95/03/7d/59ea870c70ce4e5a370638b5462a7711ab78fba2f655d05106\n",
            "Successfully built langdetect\n",
            "Installing collected packages: langdetect\n",
            "Successfully installed langdetect-1.0.9\n"
          ]
        }
      ],
      "source": [
        "!pip install vaderSentiment\n",
        "!pip install transformers\n",
        "!pip install -Uqq ipdb\n",
        "!pip install langdetect\n",
        "import ipdb\n",
        "import pandas as pd\n",
        "import numpy as np"
      ]
    },
    {
      "cell_type": "markdown",
      "source": [
        "### Data Cleaning"
      ],
      "metadata": {
        "id": "YdO0T-9K6Xyr"
      }
    },
    {
      "cell_type": "markdown",
      "source": [
        "Loading datasets"
      ],
      "metadata": {
        "id": "X4Dwv84uAU_H"
      }
    },
    {
      "cell_type": "code",
      "source": [
        "# Load the datasets\n",
        "election_2016_data = pd.read_csv('2016_donaldtrump_clean.csv', lineterminator='\\n')\n",
        "election_2020_data = pd.read_csv('2020_donaldtrump_clean.csv', lineterminator='\\n')"
      ],
      "metadata": {
        "id": "DpC2kRqjAUDB"
      },
      "execution_count": null,
      "outputs": []
    },
    {
      "cell_type": "markdown",
      "source": [
        "Lanaguage detection for 2020 dataset"
      ],
      "metadata": {
        "id": "ZGWhVAuvEW9Y"
      }
    },
    {
      "cell_type": "code",
      "source": [
        "from tqdm.notebook import tqdm  # import tqdm library\n",
        "import pandas as pd\n",
        "from langdetect import detect\n",
        "from langdetect.lang_detect_exception import LangDetectException\n",
        "\n",
        "# Remove rows with empty or whitespace-only values in the \"Cleaned_Text\" column\n",
        "election_2020_data = election_2020_data[election_2020_data['Cleaned_Text'].str.strip().astype(bool)]\n",
        "\n",
        "# Detect the language of each tweet and store it in a new column called \"Language\"\n",
        "def detect_lang(text):\n",
        "    try:\n",
        "        return detect(text)\n",
        "    except LangDetectException:\n",
        "        return ''\n",
        "\n",
        "election_2020_data['Language'] = election_2020_data['Cleaned_Text'].apply(lambda x: detect_lang(x) if isinstance(x, str) else '')"
      ],
      "metadata": {
        "id": "L5i1J2RyEWJJ"
      },
      "execution_count": null,
      "outputs": []
    },
    {
      "cell_type": "markdown",
      "source": [
        "Natural Language Toolkit (NLTK)"
      ],
      "metadata": {
        "id": "-XKPeiAQAGgK"
      }
    },
    {
      "cell_type": "code",
      "source": [
        "import re\n",
        "import nltk\n",
        "nltk.download('stopwords')\n",
        "nltk.download('wordnet')\n",
        "from nltk.corpus import stopwords\n",
        "from nltk.stem import WordNetLemmatizer\n",
        "\n",
        "def clean_text(text):\n",
        "    text = re.sub(r'http\\S+|www\\S+|https\\S+', '', text, flags=re.MULTILINE)\n",
        "    text = re.sub(r'\\@\\w+|\\#', '', text)\n",
        "    text = text.lower()\n",
        "    text = re.sub(r'\\s+[a-zA-Z]\\s+', ' ', text)\n",
        "    text = re.sub(r'\\^[a-zA-Z]\\s+', ' ', text)\n",
        "    text = re.sub(r'\\s+', ' ', text, flags=re.I)\n",
        "    text = re.sub(r'^b\\s+', '', text)\n",
        "    text = re.sub(r'\\W', ' ', text)\n",
        "\n",
        "    lemmatizer = WordNetLemmatizer()\n",
        "    tokens = text.split()\n",
        "    tokens = [lemmatizer.lemmatize(word) for word in tokens if word not in set(stopwords.words('english'))]\n",
        "\n",
        "    return ' '.join(tokens)\n",
        "\n",
        "election_2016_data['Cleaned_Text'] = election_2016_data['tweet_text'].apply(clean_text)\n",
        "election_2020_data['Cleaned_Text'] = election_2020_data['tweet_text'].apply(clean_text)"
      ],
      "metadata": {
        "id": "4YI94SsH6Xh6"
      },
      "execution_count": null,
      "outputs": []
    },
    {
      "cell_type": "markdown",
      "source": [
        "Applying Ground Truth Sentiment Labels using VADER"
      ],
      "metadata": {
        "id": "HmXeKtwT6c0a"
      }
    },
    {
      "cell_type": "code",
      "execution_count": null,
      "metadata": {
        "id": "bRLABZebJ-FI"
      },
      "outputs": [],
      "source": [
        "import pandas as pd\n",
        "import numpy as np\n",
        "from sklearn.model_selection import train_test_split\n",
        "from sklearn.cluster import KMeans\n",
        "from sklearn.ensemble import RandomForestClassifier\n",
        "from sklearn.feature_extraction.text import CountVectorizer\n",
        "from sklearn.metrics import accuracy_score, classification_report\n",
        "from vaderSentiment.vaderSentiment import SentimentIntensityAnalyzer\n",
        "from sklearn.neural_network import MLPClassifier\n",
        "from sklearn.metrics import classification_report\n",
        "\n",
        "# Function to calculate the sentiment using VADER\n",
        "def sentiment_vader(sentence):\n",
        "    sid_obj = SentimentIntensityAnalyzer()\n",
        "    sentiment_dict = sid_obj.polarity_scores(sentence)\n",
        "\n",
        "    negative = sentiment_dict['neg']\n",
        "    neutral = sentiment_dict['neu']\n",
        "    positive = sentiment_dict['pos']\n",
        "    compound = sentiment_dict['compound']\n",
        "\n",
        "    # Define sentiment categories\n",
        "    if compound >= 0.75:\n",
        "        overall_sentiment = \"Strongly Positive\"\n",
        "    if compound >= 0.4:\n",
        "        overall_sentiment = \"Positive\"\n",
        "    elif compound >= 0.1:\n",
        "        overall_sentiment = \"Slightly Positive\"\n",
        "    elif compound <= -0.75:\n",
        "        overall_sentiment = \"Strongly Negative\"\n",
        "    elif compound <= -0.4:\n",
        "        overall_sentiment = \"Negative\"\n",
        "    elif compound <= -0.1:\n",
        "        overall_sentiment = \"Slightly Negative\"\n",
        "    else:\n",
        "        overall_sentiment = \"Neutral\"\n",
        "\n",
        "    return negative, neutral, positive, compound, overall_sentiment\n",
        "\n",
        "\n",
        "#Test samples\n",
        "election_2016_data = election_2016_data.sample(n=750, random_state=44)\n",
        "election_2020_data = election_2020_data.sample(n=750, random_state=44)\n",
        "\n",
        "#Fill na values\n",
        "# Replace NaN values with an empty string\n",
        "election_2016_data['Cleaned_Text'].fillna('', inplace=True)\n",
        "election_2020_data['Cleaned_Text'].fillna('', inplace=True)\n",
        "\n",
        "# Extract relevant information and calculate sentiment\n",
        "election_2016_data['negative'], election_2016_data['neutral'], election_2016_data['positive'], election_2016_data['compound'], election_2016_data['sentiment'] = zip(*election_2016_data['Cleaned_Text'].dropna().apply(sentiment_vader))\n",
        "election_2020_data['negative'], election_2020_data['neutral'], election_2020_data['positive'], election_2020_data['compound'], election_2020_data['sentiment'] = zip(*election_2020_data['Cleaned_Text'].dropna().apply(sentiment_vader))\n"
      ]
    },
    {
      "cell_type": "markdown",
      "source": [
        "### Neural Network Models, Training, and Prediction\n"
      ],
      "metadata": {
        "id": "oefsyGKs6uUV"
      }
    },
    {
      "cell_type": "markdown",
      "source": [
        "MLP Classifier Model"
      ],
      "metadata": {
        "id": "fAhpzBPk65SC"
      }
    },
    {
      "cell_type": "code",
      "source": [
        "# Prepare the data for training and testing\n",
        "X = election_2016_data[['negative', 'positive', 'neutral', 'compound']]\n",
        "y = election_2016_data['sentiment']\n",
        "X_train, X_test, y_train, y_test = train_test_split(X, y, test_size=0.2, random_state=44)\n",
        "\n",
        "clf = MLPClassifier(hidden_layer_sizes=(50,50), max_iter=1000, random_state=1)\n",
        "clf.fit(X_train, y_train)\n",
        "\n",
        "# Predict sentiment for the 2020 dataset\n",
        "y_2020_pred = clf.predict(election_2020_data[['negative', 'positive', 'neutral', 'compound']])\n",
        "election_2020_data['predicted_sentiment'] = y_2020_pred\n",
        "\n",
        "# Evaluate the model\n",
        "y_pred = clf.predict(X_test)\n",
        "print(\"Accuracy:\", accuracy_score(y_test, y_pred))\n",
        "print(classification_report(y_test, y_pred))\n",
        "\n",
        "# Save the 2020 dataset with predictions\n",
        "election_2016_data.to_csv('750_random_Sample_2016_election_data_with_predictions.csv', index=False)\n",
        "election_2020_data.to_csv('750_random_Sample_2020_election_data_with_predictions.csv', index=False)\n",
        "\n",
        "# Print results\n",
        "print(\"\\nSample of 2020 election data with predicted sentiment:\")\n",
        "print(election_2020_data[['Cleaned_Text', 'predicted_sentiment']])\n"
      ],
      "metadata": {
        "colab": {
          "base_uri": "https://localhost:8080/"
        },
        "id": "Dg-fs9h567gC",
        "outputId": "4f8dbb97-24d9-40ee-dfc7-17ab24fe4caa"
      },
      "execution_count": null,
      "outputs": [
        {
          "output_type": "stream",
          "name": "stdout",
          "text": [
            "Accuracy: 0.9866666666666667\n",
            "                   precision    recall  f1-score   support\n",
            "\n",
            "         Negative       1.00      1.00      1.00        18\n",
            "          Neutral       0.98      0.98      0.98        52\n",
            "         Positive       1.00      1.00      1.00        32\n",
            "Slightly Negative       0.95      1.00      0.98        21\n",
            "Slightly Positive       1.00      0.94      0.97        18\n",
            "Strongly Negative       1.00      1.00      1.00         9\n",
            "\n",
            "         accuracy                           0.99       150\n",
            "        macro avg       0.99      0.99      0.99       150\n",
            "     weighted avg       0.99      0.99      0.99       150\n",
            "\n",
            "\n",
            "Sample of 2020 election data with predicted sentiment:\n",
            "                                             Cleaned_Text predicted_sentiment\n",
            "166604  terrified little boy trump going burn face los...   Strongly Negative\n",
            "114476  lol clicked trump top 5 story negative trump s...            Negative\n",
            "303607  tomorrow important day usa taco tuesday win so...            Positive\n",
            "275619  prison life waiting trump associate 2020electi...            Negative\n",
            "345504  wtf helping trump spread around covid eh yet a...   Strongly Negative\n",
            "...                                                   ...                 ...\n",
            "79180   80 million vote cast mostly vbm trump campaign...            Negative\n",
            "40054   trump hundred million dollar cash us money fig...            Negative\n",
            "358310  president win southcarolina trumptrain trump t...            Positive\n",
            "147570  stupid trump loving town mine forcing high sch...             Neutral\n",
            "175769      nowwatching train wreck donaldtrump 60minutes            Negative\n",
            "\n",
            "[750 rows x 2 columns]\n"
          ]
        }
      ]
    },
    {
      "cell_type": "markdown",
      "source": [
        "RobertaForSequenceClassification Model"
      ],
      "metadata": {
        "id": "RKZe5SPz_I-O"
      }
    },
    {
      "cell_type": "code",
      "execution_count": null,
      "metadata": {
        "id": "oMNRUYDAKC6x",
        "colab": {
          "base_uri": "https://localhost:8080/",
          "height": 1000,
          "referenced_widgets": [
            "08a39d7dcd184eb8969e59d1b085c23e",
            "857112673b374130bc53e49e94c0c3b8",
            "f96e63676a5b42a493e9f98fdc27a030",
            "b08c7042989348a58c5af4cde10da4d8",
            "1a1a80f2cba54faab1e66b1be4619253",
            "581942c710ee47fbac2c6eccc52e9301",
            "37c05af3c4d54f959e65b4987e752cf9",
            "822ab0ada1b2414081aa8d333c03f46c",
            "482ff8fa09e3467582362fd92b94ef5e",
            "d9acd0706a034add97a7239a759c2148",
            "3c85296431a64467af4e88965d936649",
            "c2c42affdd7841119b9d2cac20b8006a",
            "c89cc7e880f246ca85a43eebfd4e5b72",
            "a87df6de6950449f83032c4317d22706",
            "5a4d322d4772472eaf82aa187f3cb6cf",
            "36bf63a5da384a31a58da9517e6b2394",
            "4009fc1c7d234d48bc6a57609aea881f",
            "381f18f3eb37421f9da2c2d8cf5ef4f8",
            "a4d608d2554747feaecd1551b1ce26b7",
            "c9ba14ae961f43ebb55c719c05bf3a2d",
            "131d6ae31cc34cd6b99bde869d271c0b",
            "30e22766e70443a18ea81aea2a2959fe",
            "753d8494ae824ed39105eb4ab63e3a96",
            "4444bb72ff2e4c4d82a51d016a938c85",
            "8d7aacef336b4d7bab44deea4a27f5f9",
            "3ad8117eb612459cb1de91b7165d5c4f",
            "a23b58e597cc441c9bd0c02e8359e79f",
            "c4965cd88d7d4b4c99eb60fbc35f3ae7",
            "9581ecc7dc9848fa81a67e9b7a358e55",
            "b48fe3d4c1b04eaab5078dbc1b8e181e",
            "bdc3ff954fbb49dd8d88483fbdcb5d2d",
            "6fcc420b3cc441208e27bc2692878214",
            "081d8dcfe530455585b7b8845d1bb585",
            "75a46f0e7ea9418b8460b04c7101e39b",
            "1de581203b554baeb05e45eebae643c9",
            "1cd205e50f45401aad5f5418d718e989",
            "998ac6b3ae914afa9a7766063a3bbd24",
            "c8fc6875d94441cfbd681fa2aab011fd",
            "6bce5203775d41399ce6476f2d246896",
            "f9777c1b29ec4f528e1b20c43837011f",
            "41e6be841a66426a9b0f110cc6579584",
            "9eb98343367f4ae4ac72b6310ce1ad67",
            "bb821614b1cb4184a1e131e8729c0c99",
            "414d92691aea4d02802e218228effa62"
          ]
        },
        "outputId": "6b4ff621-0b88-4b34-db64-8e4a26545d3e"
      },
      "outputs": [
        {
          "output_type": "stream",
          "name": "stdout",
          "text": [
            "Index(['index', 'id', 'candidate_id', 'tweet_id', 'polarity', 'subjectivity',\n",
            "       'retweet_count', 'favorite_count', 'device', 'retweeted_status_id',\n",
            "       'lang', 'state', 'tweet_text', 'created_at', 'inserted_at',\n",
            "       'updated_at', 'tw_user_id', 'latitude', 'longitude\\r', 'Cleaned_Text',\n",
            "       'negative', 'neutral', 'positive', 'compound', 'sentiment'],\n",
            "      dtype='object')\n"
          ]
        },
        {
          "output_type": "display_data",
          "data": {
            "text/plain": [
              "Downloading (…)olve/main/vocab.json:   0%|          | 0.00/899k [00:00<?, ?B/s]"
            ],
            "application/vnd.jupyter.widget-view+json": {
              "version_major": 2,
              "version_minor": 0,
              "model_id": "08a39d7dcd184eb8969e59d1b085c23e"
            }
          },
          "metadata": {}
        },
        {
          "output_type": "display_data",
          "data": {
            "text/plain": [
              "Downloading (…)olve/main/merges.txt:   0%|          | 0.00/456k [00:00<?, ?B/s]"
            ],
            "application/vnd.jupyter.widget-view+json": {
              "version_major": 2,
              "version_minor": 0,
              "model_id": "c2c42affdd7841119b9d2cac20b8006a"
            }
          },
          "metadata": {}
        },
        {
          "output_type": "display_data",
          "data": {
            "text/plain": [
              "Downloading (…)lve/main/config.json:   0%|          | 0.00/481 [00:00<?, ?B/s]"
            ],
            "application/vnd.jupyter.widget-view+json": {
              "version_major": 2,
              "version_minor": 0,
              "model_id": "753d8494ae824ed39105eb4ab63e3a96"
            }
          },
          "metadata": {}
        },
        {
          "output_type": "display_data",
          "data": {
            "text/plain": [
              "Downloading pytorch_model.bin:   0%|          | 0.00/501M [00:00<?, ?B/s]"
            ],
            "application/vnd.jupyter.widget-view+json": {
              "version_major": 2,
              "version_minor": 0,
              "model_id": "75a46f0e7ea9418b8460b04c7101e39b"
            }
          },
          "metadata": {}
        },
        {
          "output_type": "stream",
          "name": "stderr",
          "text": [
            "Some weights of the model checkpoint at roberta-base were not used when initializing RobertaForSequenceClassification: ['lm_head.dense.bias', 'lm_head.layer_norm.weight', 'lm_head.layer_norm.bias', 'lm_head.dense.weight', 'lm_head.decoder.weight', 'roberta.pooler.dense.bias', 'roberta.pooler.dense.weight', 'lm_head.bias']\n",
            "- This IS expected if you are initializing RobertaForSequenceClassification from the checkpoint of a model trained on another task or with another architecture (e.g. initializing a BertForSequenceClassification model from a BertForPreTraining model).\n",
            "- This IS NOT expected if you are initializing RobertaForSequenceClassification from the checkpoint of a model that you expect to be exactly identical (initializing a BertForSequenceClassification model from a BertForSequenceClassification model).\n",
            "Some weights of RobertaForSequenceClassification were not initialized from the model checkpoint at roberta-base and are newly initialized: ['classifier.dense.weight', 'classifier.out_proj.bias', 'classifier.dense.bias', 'classifier.out_proj.weight']\n",
            "You should probably TRAIN this model on a down-stream task to be able to use it for predictions and inference.\n",
            "/usr/local/lib/python3.10/dist-packages/transformers/optimization.py:391: FutureWarning: This implementation of AdamW is deprecated and will be removed in a future version. Use the PyTorch implementation torch.optim.AdamW instead, or set `no_deprecation_warning=True` to disable this warning\n",
            "  warnings.warn(\n"
          ]
        },
        {
          "output_type": "stream",
          "name": "stdout",
          "text": [
            "Epoch 1/10, Loss: 1.6698\n",
            "Epoch 2/10, Loss: 1.5648\n",
            "Epoch 3/10, Loss: 1.3806\n",
            "Epoch 4/10, Loss: 1.0658\n",
            "Epoch 5/10, Loss: 0.9017\n",
            "Epoch 6/10, Loss: 0.7094\n",
            "Epoch 7/10, Loss: 0.5876\n",
            "Epoch 8/10, Loss: 0.4940\n",
            "Epoch 9/10, Loss: 0.4328\n",
            "Epoch 10/10, Loss: 0.3915\n",
            "(0.94, '              precision    recall  f1-score   support\\n\\n           0       0.90      0.94      0.92       119\\n           1       1.00      1.00      1.00       263\\n           2       0.88      0.99      0.93       156\\n           3       0.97      0.87      0.92        77\\n           4       0.95      0.76      0.84        95\\n           5       0.88      0.93      0.90        40\\n\\n    accuracy                           0.94       750\\n   macro avg       0.93      0.91      0.92       750\\nweighted avg       0.94      0.94      0.94       750\\n')\n",
            "\n",
            "Sample of 2020 election data with predicted sentiment:\n",
            "                                        Cleaned_Text predicted_sentiment\n",
            "0  facebook purge protrump group wiped twitter su...             Neutral\n",
            "1  usa election almost giving high bp yet even id...            Negative\n",
            "2  fb guess trump ran money pay bus everythingtru...             Neutral\n",
            "3  tacit admission putting kidsincages familysepa...            Positive\n",
            "4  excited wait till americafirst patriot country...            Positive\n",
            "5  trumpisalaughingstock remember trump brain ass...            Positive\n",
            "6  sad coronavirus nipped bud w quick effective a...            Negative\n",
            "7  forget enormous gun massive pickup huge flag t...   Slightly Negative\n",
            "8  many time last 4yrs heard america worst yet co...   Slightly Positive\n",
            "9  smooth transition power usaelections2020 chanc...            Positive\n"
          ]
        },
        {
          "output_type": "display_data",
          "data": {
            "text/plain": [
              "<Figure size 640x480 with 1 Axes>"
            ],
            "image/png": "[encoded data removed]"
          },
          "metadata": {}
        }
      ],
      "source": [
        "import pandas as pd\n",
        "import torch\n",
        "from torch.utils.data import Dataset, DataLoader\n",
        "from transformers import RobertaTokenizer, RobertaForSequenceClassification, AdamW, get_linear_schedule_with_warmup\n",
        "from sklearn.metrics import accuracy_score, classification_report\n",
        "from sklearn.preprocessing import LabelEncoder\n",
        "from matplotlib import pyplot as plt\n",
        "\n",
        "# Load datasets\n",
        "election_2016_data = pd.read_csv('750_random_Sample_2016_election_data_with_predictions.csv', lineterminator='\\n')\n",
        "election_2020_data = pd.read_csv('750_random_Sample_2020_election_data_with_predictions.csv', lineterminator='\\n')\n",
        "election_2020_data = election_2020_data.drop('predicted_sentiment', axis=1)\n",
        "\n",
        "#Test samples\n",
        "election_2016_data = election_2016_data.sample(n=750, random_state=44)\n",
        "election_2020_data = election_2020_data.sample(n=750, random_state=44)\n",
        "\n",
        "election_2016_data = election_2016_data.reset_index()\n",
        "election_2020_data = election_2020_data.reset_index()\n",
        "\n",
        "#Fill na values\n",
        "# Replace NaN values with an empty string\n",
        "election_2016_data['Cleaned_Text'].fillna('', inplace=True)\n",
        "election_2020_data['Cleaned_Text'].fillna('', inplace=True)\n",
        "\n",
        "# Print the column names of the DataFrame\n",
        "print(election_2016_data.columns)\n",
        "\n",
        "\n",
        "# Encode sentiment labels\n",
        "# Replace 'sentiment' with the correct column name\n",
        "le = LabelEncoder()\n",
        "election_2016_data['encoded_sentiment'] = le.fit_transform(election_2016_data['sentiment'])\n",
        "\n",
        "# Define custom dataset class\n",
        "class ElectionDataset(Dataset):\n",
        "    def __init__(self, df, tokenizer, max_len):\n",
        "        self.df = df\n",
        "        self.tokenizer = tokenizer\n",
        "        self.max_len = max_len\n",
        "\n",
        "    def __len__(self):\n",
        "        return len(self.df)\n",
        "\n",
        "    def __getitem__(self, idx):\n",
        "        #ipdb.set_trace()\n",
        "        tweet, label = self.df.loc[idx, ['Cleaned_Text', 'encoded_sentiment']]\n",
        "        enc = self.tokenizer.encode_plus(tweet, add_special_tokens=True, max_length=self.max_len, padding='max_length', truncation=True, return_tensors='pt')\n",
        "        return {key: tensor.flatten() for key, tensor in enc.items()}, torch.tensor(label, dtype=torch.long)\n",
        "\n",
        "def create_data_loader(df, tokenizer, max_len, batch_size):\n",
        "    dataset = ElectionDataset(df, tokenizer, max_len)\n",
        "    return DataLoader(dataset, batch_size=batch_size, num_workers=0, shuffle=True)\n",
        "\n",
        "def train_epoch(model, data_loader, optimizer, scheduler, device):\n",
        "    model.train()\n",
        "    total_loss = 0\n",
        "    for batch in data_loader:\n",
        "        inputs, labels = batch\n",
        "        inputs = {k: v.to(device) for k, v in inputs.items()}\n",
        "        labels = labels.to(device)\n",
        "\n",
        "        optimizer.zero_grad()\n",
        "        outputs = model(**inputs, labels=labels)\n",
        "        loss = outputs.loss\n",
        "        loss.backward()\n",
        "        optimizer.step()\n",
        "        scheduler.step()\n",
        "\n",
        "        total_loss += loss.item()\n",
        "    return total_loss / len(data_loader)\n",
        "\n",
        "def eval_model(model, data_loader, device):\n",
        "    model.eval()\n",
        "    y_true, y_pred = [], []\n",
        "\n",
        "    with torch.no_grad():\n",
        "        for batch in data_loader:\n",
        "            inputs, labels = batch\n",
        "            inputs = {k: v.to(device) for k, v in inputs.items()}\n",
        "            labels = labels.to(device)\n",
        "\n",
        "            outputs = model(**inputs, labels=labels)\n",
        "            _, preds = torch.max(outputs.logits, dim=1)\n",
        "            y_true.extend(labels.cpu().numpy().tolist())\n",
        "            y_pred.extend(preds.cpu().numpy().tolist())\n",
        "\n",
        "    return accuracy_score(y_true, y_pred), classification_report(y_true, y_pred)\n",
        "\n",
        "# Set up the tokenizer and model\n",
        "tokenizer = RobertaTokenizer.from_pretrained('roberta-base')\n",
        "model = RobertaForSequenceClassification.from_pretrained('roberta-base', num_labels=len(le.classes_))\n",
        "\n",
        "# Set up training parameters and device\n",
        "max_len = 128\n",
        "batch_size = 24\n",
        "epochs = 10\n",
        "device = torch.device('cuda' if torch.cuda.is_available() else 'cpu')\n",
        "\n",
        "# Create the data loader\n",
        "train_data_loader = create_data_loader(election_2016_data, tokenizer, max_len, batch_size)\n",
        "\n",
        "# Set up the optimizer and scheduler\n",
        "optimizer = AdamW(model.parameters(), lr=2e-5)\n",
        "scheduler = get_linear_schedule_with_warmup(\n",
        "    optimizer,\n",
        "    num_warmup_steps=0,\n",
        "    num_training_steps=epochs * len(train_data_loader)\n",
        ")\n",
        "\n",
        "# Initialize the training_losses list\n",
        "training_losses = []\n",
        "\n",
        "model.to(device)\n",
        "# Train the model\n",
        "for epoch in range(epochs):\n",
        "    train_loss = train_epoch(model, train_data_loader, optimizer, scheduler, device)\n",
        "    training_losses.append(train_loss)\n",
        "    print(f\"Epoch {epoch + 1}/{epochs}, Loss: {train_loss:.4f}\")\n",
        "\n",
        "# Predict sentiment for the 2020 dataset\n",
        "election_2020_data['encoded_sentiment'] = -1  # placeholder\n",
        "test_data_loader = create_data_loader(election_2020_data, tokenizer, max_len, batch_size)\n",
        "y_2020_pred = []\n",
        "with torch.no_grad():\n",
        "    for batch in test_data_loader:\n",
        "        input_ids = batch[0]['input_ids'].to(device)\n",
        "        attention_mask = batch[0]['attention_mask'].to(device)\n",
        "\n",
        "        outputs = model(input_ids=input_ids, attention_mask=attention_mask)\n",
        "        _, preds = torch.max(outputs.logits, dim=1)\n",
        "\n",
        "        y_2020_pred.extend(preds.cpu().numpy().tolist())\n",
        "\n",
        "y_2020_pred = [le.inverse_transform([pred])[0] for pred in y_2020_pred]\n",
        "\n",
        "election_2020_data['predicted_sentiment'] = y_2020_pred\n",
        "print(eval_model(model, train_data_loader, device) )\n",
        "election_2020_data.to_csv('750_random_Sample_2020_election_data_with_predictions_final_output.csv', index=False)\n",
        "\n",
        "# Print results\n",
        "print(\"\\nSample of 2020 election data with predicted sentiment:\")\n",
        "print(election_2020_data[['Cleaned_Text', 'predicted_sentiment']].head(10))\n",
        "\n",
        "\n",
        "# Plot the training loss\n",
        "plt.plot(range(1, epochs + 1), training_losses)\n",
        "plt.xlabel('Epoch')\n",
        "plt.ylabel('Loss')\n",
        "plt.title('Training Loss')\n",
        "plt.show()"
      ]
    },
    {
      "cell_type": "markdown",
      "source": [
        "Analysis/Plots for Roberta Model"
      ],
      "metadata": {
        "id": "iqAbGdYr_lcT"
      }
    },
    {
      "cell_type": "code",
      "execution_count": null,
      "metadata": {
        "id": "Z2iHfkPBsvhp",
        "colab": {
          "base_uri": "https://localhost:8080/",
          "height": 1000
        },
        "outputId": "46899a7b-4f60-430a-bc04-33028ad5c66e"
      },
      "outputs": [
        {
          "output_type": "stream",
          "name": "stdout",
          "text": [
            "   index           created_at      tweet_id  \\\n",
            "0    145  2020-11-01 23:47:02  1.323049e+18   \n",
            "1    730  2020-11-04 08:21:49  1.323903e+18   \n",
            "2    692  2020-10-28 16:23:52  1.321488e+18   \n",
            "3    280  2020-10-28 23:47:35  1.321600e+18   \n",
            "4    296  2020-10-31 02:33:30  1.322366e+18   \n",
            "5    640  2020-11-04 20:08:34  1.324081e+18   \n",
            "6     37  2020-10-24 06:49:40  1.319894e+18   \n",
            "7    185  2020-11-02 17:46:34  1.323321e+18   \n",
            "8    391  2020-11-02 13:30:37  1.323256e+18   \n",
            "9    431  2020-11-05 07:47:38  1.324257e+18   \n",
            "\n",
            "                                               tweet  likes  retweet_count  \\\n",
            "0  #Facebook #PURGE Is Here, #ProTrump #Groups WI...    0.0            0.0   \n",
            "1  USA 🇺🇸 election is almost giving me High BP ye...    1.0            0.0   \n",
            "2  #FB I guess #Trump ran out of money to pay the...    0.0            0.0   \n",
            "3  A tacit admission that putting #KidsInCages an...    1.0            0.0   \n",
            "4  @SunshineSt8Sam @realDonaldTrump I’m so excite...    1.0            0.0   \n",
            "5  #TrumpIsALaughingStock \\nRemember when Trump's...    0.0            0.0   \n",
            "6  @ProjectLincoln @AlanDonn Sad that #coronaviru...    1.0            0.0   \n",
            "7  @TonyShnark Don't forget about your ENORMOUS G...    2.0            0.0   \n",
            "8  How many times in the last 4yrs have we heard,...    0.0            0.0   \n",
            "9  @WIONews \\n\"Will there be a smooth transition ...    0.0            0.0   \n",
            "\n",
            "                source       user_id                           user_name  \\\n",
            "0      Twitter Web App  8.275010e+17                 James Milo Palmer❌👣   \n",
            "1   Twitter for iPhone  2.678050e+09                      brenda cheruto   \n",
            "2   Twitter for iPhone  2.639810e+07                       Keith Douglas   \n",
            "3   Twitter for iPhone  2.207417e+09  🎃n My Soapbox (#MaskUp)😷✊🏿✊🏾✊🏽✊🏼✊🏻   \n",
            "4   Twitter for iPhone  8.952828e+17                        Katie Pallon   \n",
            "5      Twitter Web App  7.245768e+17                         Chris Brown   \n",
            "6      Twitter Web App  1.157072e+18                     Peaches Bennett   \n",
            "7      Twitter Web App  1.297449e+18                    anAmericanAbroad   \n",
            "8  Twitter for Android  1.033402e+18                              SPWSEC   \n",
            "9  Twitter for Android  7.755899e+08                      Yesudas Antony   \n",
            "\n",
            "  user_screen_name  ...                collected_at  \\\n",
            "0        jmp022871  ...  2020-11-02 17:05:36.779417   \n",
            "1   brenda_cheruto  ...  2020-11-05 11:52:15.606250   \n",
            "2    keith_douglas  ...  2020-10-29 17:18:35.459139   \n",
            "3    OneMinSoapbox  ...  2020-10-29 17:16:44.511751   \n",
            "4  Livinspritually  ...  2020-11-01 10:55:18.598233   \n",
            "5  chrisbrownofca1  ...  2020-11-05 11:50:45.131741   \n",
            "6  PeachesBennett2  ...  2020-10-27 17:44:21.916542   \n",
            "7  Suzanne39868296  ...  2020-11-04 10:59:37.137115   \n",
            "8           spwsec  ...  2020-11-04 10:25:14.432143   \n",
            "9    yesudasantony  ...  2020-11-06 09:49:00.670796   \n",
            "\n",
            "                                        Cleaned_Text  Language negative  \\\n",
            "0  facebook purge protrump group wiped twitter su...        en    0.000   \n",
            "1  usa election almost giving high bp yet even id...        en    0.000   \n",
            "2  fb guess trump ran money pay bus everythingtru...        en    0.167   \n",
            "3  tacit admission putting kidsincages familysepa...        en    0.216   \n",
            "4  excited wait till americafirst patriot country...        en    0.000   \n",
            "5  trumpisalaughingstock remember trump brain ass...        en    0.149   \n",
            "6  sad coronavirus nipped bud w quick effective a...        en    0.320   \n",
            "7  forget enormous gun massive pickup huge flag t...        en    0.243   \n",
            "8  many time last 4yrs heard america worst yet co...        en    0.255   \n",
            "9  smooth transition power usaelections2020 chanc...        en    0.000   \n",
            "\n",
            "   neutral  positive compound          sentiment encoded_sentiment  \\\n",
            "0    1.000     0.000   0.0000            Neutral                -1   \n",
            "1    0.645     0.355   0.6712           Positive                -1   \n",
            "2    0.833     0.000  -0.1027  Slightly Negative                -1   \n",
            "3    0.784     0.000  -0.6597           Negative                -1   \n",
            "4    0.876     0.124   0.3400  Slightly Positive                -1   \n",
            "5    0.577     0.274   0.3818  Slightly Positive                -1   \n",
            "6    0.599     0.081  -0.8481  Strongly Negative                -1   \n",
            "7    0.635     0.122  -0.3167  Slightly Negative                -1   \n",
            "8    0.745     0.000  -0.6249           Negative                -1   \n",
            "9    0.875     0.125   0.2500  Slightly Positive                -1   \n",
            "\n",
            "  predicted_sentiment  \n",
            "0   Slightly Positive  \n",
            "1            Positive  \n",
            "2            Positive  \n",
            "3            Positive  \n",
            "4   Strongly Negative  \n",
            "5             Neutral  \n",
            "6   Slightly Negative  \n",
            "7            Negative  \n",
            "8             Neutral  \n",
            "9            Negative  \n",
            "\n",
            "[10 rows x 31 columns]\n"
          ]
        },
        {
          "output_type": "display_data",
          "data": {
            "text/plain": [
              "<Figure size 640x480 with 1 Axes>"
            ],
            "image/png": "[encoded data removed]"
          },
          "metadata": {}
        }
      ],
      "source": [
        "from matplotlib import pyplot as plt\n",
        "import pandas as pd\n",
        "\n",
        "# Load datasets\n",
        "election_2020_data_graph = pd.read_csv('750_random_Sample_2020_election_data_with_predictions_final_use.csv', lineterminator='\\n')\n",
        "print(election_2020_data_graph.head(10))\n",
        "value_counts = election_2020_data_graph['predicted_sentiment'].value_counts()\n",
        "\n",
        "# plot the value counts as a bar graph\n",
        "value_counts.plot(kind='bar')\n",
        "\n",
        "# set the x-label and y-label\n",
        "plt.xlabel('Predicted Sentiment')\n",
        "plt.ylabel('Count')\n",
        "\n",
        "# show the plot\n",
        "plt.show()"
      ]
    },
    {
      "cell_type": "code",
      "execution_count": null,
      "metadata": {
        "id": "zwTktnR0swX_",
        "colab": {
          "base_uri": "https://localhost:8080/",
          "height": 560
        },
        "outputId": "905d37c5-cf73-4ddc-f17a-a71d404b47f1"
      },
      "outputs": [
        {
          "output_type": "display_data",
          "data": {
            "text/plain": [
              "<Figure size 640x480 with 1 Axes>"
            ],
            "image/png": "[encoded data removed]"
          },
          "metadata": {}
        }
      ],
      "source": [
        "value_counts = election_2020_data_graph['sentiment'].value_counts()\n",
        "\n",
        "# plot the value counts as a bar graph\n",
        "value_counts.plot(kind='bar')\n",
        "\n",
        "# set the x-label and y-label\n",
        "plt.xlabel('Sentiment')\n",
        "plt.ylabel('Count')\n",
        "\n",
        "# show the plot\n",
        "plt.show()"
      ]
    },
    {
      "cell_type": "code",
      "execution_count": null,
      "metadata": {
        "id": "zt-kQhljsy9I",
        "colab": {
          "base_uri": "https://localhost:8080/",
          "height": 560
        },
        "outputId": "3c79617b-5f78-41ac-89a4-41f55ac5adeb"
      },
      "outputs": [
        {
          "output_type": "display_data",
          "data": {
            "text/plain": [
              "<Figure size 640x480 with 1 Axes>"
            ],
            "image/png": "[encoded data removed]"
          },
          "metadata": {}
        }
      ],
      "source": [
        "value_counts = election_2020_data_graph['sentiment'].value_counts()\n",
        "\n",
        "# plot the value counts as a bar graph\n",
        "value_counts.plot(kind='bar')\n",
        "\n",
        "# set the x-label and y-label\n",
        "plt.xlabel('Sentiment')\n",
        "plt.ylabel('Count')\n",
        "\n",
        "# show the plot\n",
        "plt.show()"
      ]
    },
    {
      "cell_type": "code",
      "execution_count": null,
      "metadata": {
        "id": "dPSrpW1Ns1UM",
        "colab": {
          "base_uri": "https://localhost:8080/",
          "height": 472
        },
        "outputId": "10d9e368-4940-45c1-e807-969288c23af5"
      },
      "outputs": [
        {
          "output_type": "display_data",
          "data": {
            "text/plain": [
              "<Figure size 640x480 with 1 Axes>"
            ],
            "image/png": "[encoded data removed]"
          },
          "metadata": {}
        }
      ],
      "source": [
        "plt.bar(election_2020_data_graph['predicted_sentiment'], election_2020_data_graph['likes'])\n",
        "plt.title('Likes vs Predicted Sentiment')\n",
        "plt.xlabel('Predicted Sentiment', labelpad=7)\n",
        "plt.ylabel('Likes')\n",
        "plt.tick_params(axis='x', which='major', labelsize=7)\n",
        "plt.show()"
      ]
    },
    {
      "cell_type": "code",
      "execution_count": null,
      "metadata": {
        "id": "aJWZ6Pzbs4vb",
        "colab": {
          "base_uri": "https://localhost:8080/",
          "height": 472
        },
        "outputId": "6f172d11-7717-4cd0-d426-3fc0261abf14"
      },
      "outputs": [
        {
          "output_type": "display_data",
          "data": {
            "text/plain": [
              "<Figure size 640x480 with 1 Axes>"
            ],
            "image/png": "[encoded data removed]"
          },
          "metadata": {}
        }
      ],
      "source": [
        "plt.bar(election_2020_data_graph['predicted_sentiment'], election_2020_data_graph['retweet_count'])\n",
        "plt.title('Retweets vs Predicted Sentiment')\n",
        "plt.xlabel('Predicted Sentiment', labelpad=7)\n",
        "plt.ylabel('Retweets')\n",
        "plt.tick_params(axis='x', which='major', labelsize=7)\n",
        "plt.show()"
      ]
    }
  ],
  "metadata": {
    "colab": {
      "provenance": [],
      "gpuType": "T4"
    },
    "kernelspec": {
      "display_name": "Python 3",
      "name": "python3"
    },
    "language_info": {
      "name": "python"
    },
    "accelerator": "GPU",
    "gpuClass": "standard",
    "widgets": {
      "application/vnd.jupyter.widget-state+json": {
        "08a39d7dcd184eb8969e59d1b085c23e": {
          "model_module": "@jupyter-widgets/controls",
          "model_name": "HBoxModel",
          "model_module_version": "1.5.0",
          "state": {
            "_dom_classes": [],
            "_model_module": "@jupyter-widgets/controls",
            "_model_module_version": "1.5.0",
            "_model_name": "HBoxModel",
            "_view_count": null,
            "_view_module": "@jupyter-widgets/controls",
            "_view_module_version": "1.5.0",
            "_view_name": "HBoxView",
            "box_style": "",
            "children": [
              "IPY_MODEL_857112673b374130bc53e49e94c0c3b8",
              "IPY_MODEL_f96e63676a5b42a493e9f98fdc27a030",
              "IPY_MODEL_b08c7042989348a58c5af4cde10da4d8"
            ],
            "layout": "IPY_MODEL_1a1a80f2cba54faab1e66b1be4619253"
          }
        },
        "857112673b374130bc53e49e94c0c3b8": {
          "model_module": "@jupyter-widgets/controls",
          "model_name": "HTMLModel",
          "model_module_version": "1.5.0",
          "state": {
            "_dom_classes": [],
            "_model_module": "@jupyter-widgets/controls",
            "_model_module_version": "1.5.0",
            "_model_name": "HTMLModel",
            "_view_count": null,
            "_view_module": "@jupyter-widgets/controls",
            "_view_module_version": "1.5.0",
            "_view_name": "HTMLView",
            "description": "",
            "description_tooltip": null,
            "layout": "IPY_MODEL_581942c710ee47fbac2c6eccc52e9301",
            "placeholder": "​",
            "style": "IPY_MODEL_37c05af3c4d54f959e65b4987e752cf9",
            "value": "Downloading (…)olve/main/vocab.json: 100%"
          }
        },
        "f96e63676a5b42a493e9f98fdc27a030": {
          "model_module": "@jupyter-widgets/controls",
          "model_name": "FloatProgressModel",
          "model_module_version": "1.5.0",
          "state": {
            "_dom_classes": [],
            "_model_module": "@jupyter-widgets/controls",
            "_model_module_version": "1.5.0",
            "_model_name": "FloatProgressModel",
            "_view_count": null,
            "_view_module": "@jupyter-widgets/controls",
            "_view_module_version": "1.5.0",
            "_view_name": "ProgressView",
            "bar_style": "success",
            "description": "",
            "description_tooltip": null,
            "layout": "IPY_MODEL_822ab0ada1b2414081aa8d333c03f46c",
            "max": 898823,
            "min": 0,
            "orientation": "horizontal",
            "style": "IPY_MODEL_482ff8fa09e3467582362fd92b94ef5e",
            "value": 898823
          }
        },
        "b08c7042989348a58c5af4cde10da4d8": {
          "model_module": "@jupyter-widgets/controls",
          "model_name": "HTMLModel",
          "model_module_version": "1.5.0",
          "state": {
            "_dom_classes": [],
            "_model_module": "@jupyter-widgets/controls",
            "_model_module_version": "1.5.0",
            "_model_name": "HTMLModel",
            "_view_count": null,
            "_view_module": "@jupyter-widgets/controls",
            "_view_module_version": "1.5.0",
            "_view_name": "HTMLView",
            "description": "",
            "description_tooltip": null,
            "layout": "IPY_MODEL_d9acd0706a034add97a7239a759c2148",
            "placeholder": "​",
            "style": "IPY_MODEL_3c85296431a64467af4e88965d936649",
            "value": " 899k/899k [00:00&lt;00:00, 20.9MB/s]"
          }
        },
        "1a1a80f2cba54faab1e66b1be4619253": {
          "model_module": "@jupyter-widgets/base",
          "model_name": "LayoutModel",
          "model_module_version": "1.2.0",
          "state": {
            "_model_module": "@jupyter-widgets/base",
            "_model_module_version": "1.2.0",
            "_model_name": "LayoutModel",
            "_view_count": null,
            "_view_module": "@jupyter-widgets/base",
            "_view_module_version": "1.2.0",
            "_view_name": "LayoutView",
            "align_content": null,
            "align_items": null,
            "align_self": null,
            "border": null,
            "bottom": null,
            "display": null,
            "flex": null,
            "flex_flow": null,
            "grid_area": null,
            "grid_auto_columns": null,
            "grid_auto_flow": null,
            "grid_auto_rows": null,
            "grid_column": null,
            "grid_gap": null,
            "grid_row": null,
            "grid_template_areas": null,
            "grid_template_columns": null,
            "grid_template_rows": null,
            "height": null,
            "justify_content": null,
            "justify_items": null,
            "left": null,
            "margin": null,
            "max_height": null,
            "max_width": null,
            "min_height": null,
            "min_width": null,
            "object_fit": null,
            "object_position": null,
            "order": null,
            "overflow": null,
            "overflow_x": null,
            "overflow_y": null,
            "padding": null,
            "right": null,
            "top": null,
            "visibility": null,
            "width": null
          }
        },
        "581942c710ee47fbac2c6eccc52e9301": {
          "model_module": "@jupyter-widgets/base",
          "model_name": "LayoutModel",
          "model_module_version": "1.2.0",
          "state": {
            "_model_module": "@jupyter-widgets/base",
            "_model_module_version": "1.2.0",
            "_model_name": "LayoutModel",
            "_view_count": null,
            "_view_module": "@jupyter-widgets/base",
            "_view_module_version": "1.2.0",
            "_view_name": "LayoutView",
            "align_content": null,
            "align_items": null,
            "align_self": null,
            "border": null,
            "bottom": null,
            "display": null,
            "flex": null,
            "flex_flow": null,
            "grid_area": null,
            "grid_auto_columns": null,
            "grid_auto_flow": null,
            "grid_auto_rows": null,
            "grid_column": null,
            "grid_gap": null,
            "grid_row": null,
            "grid_template_areas": null,
            "grid_template_columns": null,
            "grid_template_rows": null,
            "height": null,
            "justify_content": null,
            "justify_items": null,
            "left": null,
            "margin": null,
            "max_height": null,
            "max_width": null,
            "min_height": null,
            "min_width": null,
            "object_fit": null,
            "object_position": null,
            "order": null,
            "overflow": null,
            "overflow_x": null,
            "overflow_y": null,
            "padding": null,
            "right": null,
            "top": null,
            "visibility": null,
            "width": null
          }
        },
        "37c05af3c4d54f959e65b4987e752cf9": {
          "model_module": "@jupyter-widgets/controls",
          "model_name": "DescriptionStyleModel",
          "model_module_version": "1.5.0",
          "state": {
            "_model_module": "@jupyter-widgets/controls",
            "_model_module_version": "1.5.0",
            "_model_name": "DescriptionStyleModel",
            "_view_count": null,
            "_view_module": "@jupyter-widgets/base",
            "_view_module_version": "1.2.0",
            "_view_name": "StyleView",
            "description_width": ""
          }
        },
        "822ab0ada1b2414081aa8d333c03f46c": {
          "model_module": "@jupyter-widgets/base",
          "model_name": "LayoutModel",
          "model_module_version": "1.2.0",
          "state": {
            "_model_module": "@jupyter-widgets/base",
            "_model_module_version": "1.2.0",
            "_model_name": "LayoutModel",
            "_view_count": null,
            "_view_module": "@jupyter-widgets/base",
            "_view_module_version": "1.2.0",
            "_view_name": "LayoutView",
            "align_content": null,
            "align_items": null,
            "align_self": null,
            "border": null,
            "bottom": null,
            "display": null,
            "flex": null,
            "flex_flow": null,
            "grid_area": null,
            "grid_auto_columns": null,
            "grid_auto_flow": null,
            "grid_auto_rows": null,
            "grid_column": null,
            "grid_gap": null,
            "grid_row": null,
            "grid_template_areas": null,
            "grid_template_columns": null,
            "grid_template_rows": null,
            "height": null,
            "justify_content": null,
            "justify_items": null,
            "left": null,
            "margin": null,
            "max_height": null,
            "max_width": null,
            "min_height": null,
            "min_width": null,
            "object_fit": null,
            "object_position": null,
            "order": null,
            "overflow": null,
            "overflow_x": null,
            "overflow_y": null,
            "padding": null,
            "right": null,
            "top": null,
            "visibility": null,
            "width": null
          }
        },
        "482ff8fa09e3467582362fd92b94ef5e": {
          "model_module": "@jupyter-widgets/controls",
          "model_name": "ProgressStyleModel",
          "model_module_version": "1.5.0",
          "state": {
            "_model_module": "@jupyter-widgets/controls",
            "_model_module_version": "1.5.0",
            "_model_name": "ProgressStyleModel",
            "_view_count": null,
            "_view_module": "@jupyter-widgets/base",
            "_view_module_version": "1.2.0",
            "_view_name": "StyleView",
            "bar_color": null,
            "description_width": ""
          }
        },
        "d9acd0706a034add97a7239a759c2148": {
          "model_module": "@jupyter-widgets/base",
          "model_name": "LayoutModel",
          "model_module_version": "1.2.0",
          "state": {
            "_model_module": "@jupyter-widgets/base",
            "_model_module_version": "1.2.0",
            "_model_name": "LayoutModel",
            "_view_count": null,
            "_view_module": "@jupyter-widgets/base",
            "_view_module_version": "1.2.0",
            "_view_name": "LayoutView",
            "align_content": null,
            "align_items": null,
            "align_self": null,
            "border": null,
            "bottom": null,
            "display": null,
            "flex": null,
            "flex_flow": null,
            "grid_area": null,
            "grid_auto_columns": null,
            "grid_auto_flow": null,
            "grid_auto_rows": null,
            "grid_column": null,
            "grid_gap": null,
            "grid_row": null,
            "grid_template_areas": null,
            "grid_template_columns": null,
            "grid_template_rows": null,
            "height": null,
            "justify_content": null,
            "justify_items": null,
            "left": null,
            "margin": null,
            "max_height": null,
            "max_width": null,
            "min_height": null,
            "min_width": null,
            "object_fit": null,
            "object_position": null,
            "order": null,
            "overflow": null,
            "overflow_x": null,
            "overflow_y": null,
            "padding": null,
            "right": null,
            "top": null,
            "visibility": null,
            "width": null
          }
        },
        "3c85296431a64467af4e88965d936649": {
          "model_module": "@jupyter-widgets/controls",
          "model_name": "DescriptionStyleModel",
          "model_module_version": "1.5.0",
          "state": {
            "_model_module": "@jupyter-widgets/controls",
            "_model_module_version": "1.5.0",
            "_model_name": "DescriptionStyleModel",
            "_view_count": null,
            "_view_module": "@jupyter-widgets/base",
            "_view_module_version": "1.2.0",
            "_view_name": "StyleView",
            "description_width": ""
          }
        },
        "c2c42affdd7841119b9d2cac20b8006a": {
          "model_module": "@jupyter-widgets/controls",
          "model_name": "HBoxModel",
          "model_module_version": "1.5.0",
          "state": {
            "_dom_classes": [],
            "_model_module": "@jupyter-widgets/controls",
            "_model_module_version": "1.5.0",
            "_model_name": "HBoxModel",
            "_view_count": null,
            "_view_module": "@jupyter-widgets/controls",
            "_view_module_version": "1.5.0",
            "_view_name": "HBoxView",
            "box_style": "",
            "children": [
              "IPY_MODEL_c89cc7e880f246ca85a43eebfd4e5b72",
              "IPY_MODEL_a87df6de6950449f83032c4317d22706",
              "IPY_MODEL_5a4d322d4772472eaf82aa187f3cb6cf"
            ],
            "layout": "IPY_MODEL_36bf63a5da384a31a58da9517e6b2394"
          }
        },
        "c89cc7e880f246ca85a43eebfd4e5b72": {
          "model_module": "@jupyter-widgets/controls",
          "model_name": "HTMLModel",
          "model_module_version": "1.5.0",
          "state": {
            "_dom_classes": [],
            "_model_module": "@jupyter-widgets/controls",
            "_model_module_version": "1.5.0",
            "_model_name": "HTMLModel",
            "_view_count": null,
            "_view_module": "@jupyter-widgets/controls",
            "_view_module_version": "1.5.0",
            "_view_name": "HTMLView",
            "description": "",
            "description_tooltip": null,
            "layout": "IPY_MODEL_4009fc1c7d234d48bc6a57609aea881f",
            "placeholder": "​",
            "style": "IPY_MODEL_381f18f3eb37421f9da2c2d8cf5ef4f8",
            "value": "Downloading (…)olve/main/merges.txt: 100%"
          }
        },
        "a87df6de6950449f83032c4317d22706": {
          "model_module": "@jupyter-widgets/controls",
          "model_name": "FloatProgressModel",
          "model_module_version": "1.5.0",
          "state": {
            "_dom_classes": [],
            "_model_module": "@jupyter-widgets/controls",
            "_model_module_version": "1.5.0",
            "_model_name": "FloatProgressModel",
            "_view_count": null,
            "_view_module": "@jupyter-widgets/controls",
            "_view_module_version": "1.5.0",
            "_view_name": "ProgressView",
            "bar_style": "success",
            "description": "",
            "description_tooltip": null,
            "layout": "IPY_MODEL_a4d608d2554747feaecd1551b1ce26b7",
            "max": 456318,
            "min": 0,
            "orientation": "horizontal",
            "style": "IPY_MODEL_c9ba14ae961f43ebb55c719c05bf3a2d",
            "value": 456318
          }
        },
        "5a4d322d4772472eaf82aa187f3cb6cf": {
          "model_module": "@jupyter-widgets/controls",
          "model_name": "HTMLModel",
          "model_module_version": "1.5.0",
          "state": {
            "_dom_classes": [],
            "_model_module": "@jupyter-widgets/controls",
            "_model_module_version": "1.5.0",
            "_model_name": "HTMLModel",
            "_view_count": null,
            "_view_module": "@jupyter-widgets/controls",
            "_view_module_version": "1.5.0",
            "_view_name": "HTMLView",
            "description": "",
            "description_tooltip": null,
            "layout": "IPY_MODEL_131d6ae31cc34cd6b99bde869d271c0b",
            "placeholder": "​",
            "style": "IPY_MODEL_30e22766e70443a18ea81aea2a2959fe",
            "value": " 456k/456k [00:00&lt;00:00, 17.5MB/s]"
          }
        },
        "36bf63a5da384a31a58da9517e6b2394": {
          "model_module": "@jupyter-widgets/base",
          "model_name": "LayoutModel",
          "model_module_version": "1.2.0",
          "state": {
            "_model_module": "@jupyter-widgets/base",
            "_model_module_version": "1.2.0",
            "_model_name": "LayoutModel",
            "_view_count": null,
            "_view_module": "@jupyter-widgets/base",
            "_view_module_version": "1.2.0",
            "_view_name": "LayoutView",
            "align_content": null,
            "align_items": null,
            "align_self": null,
            "border": null,
            "bottom": null,
            "display": null,
            "flex": null,
            "flex_flow": null,
            "grid_area": null,
            "grid_auto_columns": null,
            "grid_auto_flow": null,
            "grid_auto_rows": null,
            "grid_column": null,
            "grid_gap": null,
            "grid_row": null,
            "grid_template_areas": null,
            "grid_template_columns": null,
            "grid_template_rows": null,
            "height": null,
            "justify_content": null,
            "justify_items": null,
            "left": null,
            "margin": null,
            "max_height": null,
            "max_width": null,
            "min_height": null,
            "min_width": null,
            "object_fit": null,
            "object_position": null,
            "order": null,
            "overflow": null,
            "overflow_x": null,
            "overflow_y": null,
            "padding": null,
            "right": null,
            "top": null,
            "visibility": null,
            "width": null
          }
        },
        "4009fc1c7d234d48bc6a57609aea881f": {
          "model_module": "@jupyter-widgets/base",
          "model_name": "LayoutModel",
          "model_module_version": "1.2.0",
          "state": {
            "_model_module": "@jupyter-widgets/base",
            "_model_module_version": "1.2.0",
            "_model_name": "LayoutModel",
            "_view_count": null,
            "_view_module": "@jupyter-widgets/base",
            "_view_module_version": "1.2.0",
            "_view_name": "LayoutView",
            "align_content": null,
            "align_items": null,
            "align_self": null,
            "border": null,
            "bottom": null,
            "display": null,
            "flex": null,
            "flex_flow": null,
            "grid_area": null,
            "grid_auto_columns": null,
            "grid_auto_flow": null,
            "grid_auto_rows": null,
            "grid_column": null,
            "grid_gap": null,
            "grid_row": null,
            "grid_template_areas": null,
            "grid_template_columns": null,
            "grid_template_rows": null,
            "height": null,
            "justify_content": null,
            "justify_items": null,
            "left": null,
            "margin": null,
            "max_height": null,
            "max_width": null,
            "min_height": null,
            "min_width": null,
            "object_fit": null,
            "object_position": null,
            "order": null,
            "overflow": null,
            "overflow_x": null,
            "overflow_y": null,
            "padding": null,
            "right": null,
            "top": null,
            "visibility": null,
            "width": null
          }
        },
        "381f18f3eb37421f9da2c2d8cf5ef4f8": {
          "model_module": "@jupyter-widgets/controls",
          "model_name": "DescriptionStyleModel",
          "model_module_version": "1.5.0",
          "state": {
            "_model_module": "@jupyter-widgets/controls",
            "_model_module_version": "1.5.0",
            "_model_name": "DescriptionStyleModel",
            "_view_count": null,
            "_view_module": "@jupyter-widgets/base",
            "_view_module_version": "1.2.0",
            "_view_name": "StyleView",
            "description_width": ""
          }
        },
        "a4d608d2554747feaecd1551b1ce26b7": {
          "model_module": "@jupyter-widgets/base",
          "model_name": "LayoutModel",
          "model_module_version": "1.2.0",
          "state": {
            "_model_module": "@jupyter-widgets/base",
            "_model_module_version": "1.2.0",
            "_model_name": "LayoutModel",
            "_view_count": null,
            "_view_module": "@jupyter-widgets/base",
            "_view_module_version": "1.2.0",
            "_view_name": "LayoutView",
            "align_content": null,
            "align_items": null,
            "align_self": null,
            "border": null,
            "bottom": null,
            "display": null,
            "flex": null,
            "flex_flow": null,
            "grid_area": null,
            "grid_auto_columns": null,
            "grid_auto_flow": null,
            "grid_auto_rows": null,
            "grid_column": null,
            "grid_gap": null,
            "grid_row": null,
            "grid_template_areas": null,
            "grid_template_columns": null,
            "grid_template_rows": null,
            "height": null,
            "justify_content": null,
            "justify_items": null,
            "left": null,
            "margin": null,
            "max_height": null,
            "max_width": null,
            "min_height": null,
            "min_width": null,
            "object_fit": null,
            "object_position": null,
            "order": null,
            "overflow": null,
            "overflow_x": null,
            "overflow_y": null,
            "padding": null,
            "right": null,
            "top": null,
            "visibility": null,
            "width": null
          }
        },
        "c9ba14ae961f43ebb55c719c05bf3a2d": {
          "model_module": "@jupyter-widgets/controls",
          "model_name": "ProgressStyleModel",
          "model_module_version": "1.5.0",
          "state": {
            "_model_module": "@jupyter-widgets/controls",
            "_model_module_version": "1.5.0",
            "_model_name": "ProgressStyleModel",
            "_view_count": null,
            "_view_module": "@jupyter-widgets/base",
            "_view_module_version": "1.2.0",
            "_view_name": "StyleView",
            "bar_color": null,
            "description_width": ""
          }
        },
        "131d6ae31cc34cd6b99bde869d271c0b": {
          "model_module": "@jupyter-widgets/base",
          "model_name": "LayoutModel",
          "model_module_version": "1.2.0",
          "state": {
            "_model_module": "@jupyter-widgets/base",
            "_model_module_version": "1.2.0",
            "_model_name": "LayoutModel",
            "_view_count": null,
            "_view_module": "@jupyter-widgets/base",
            "_view_module_version": "1.2.0",
            "_view_name": "LayoutView",
            "align_content": null,
            "align_items": null,
            "align_self": null,
            "border": null,
            "bottom": null,
            "display": null,
            "flex": null,
            "flex_flow": null,
            "grid_area": null,
            "grid_auto_columns": null,
            "grid_auto_flow": null,
            "grid_auto_rows": null,
            "grid_column": null,
            "grid_gap": null,
            "grid_row": null,
            "grid_template_areas": null,
            "grid_template_columns": null,
            "grid_template_rows": null,
            "height": null,
            "justify_content": null,
            "justify_items": null,
            "left": null,
            "margin": null,
            "max_height": null,
            "max_width": null,
            "min_height": null,
            "min_width": null,
            "object_fit": null,
            "object_position": null,
            "order": null,
            "overflow": null,
            "overflow_x": null,
            "overflow_y": null,
            "padding": null,
            "right": null,
            "top": null,
            "visibility": null,
            "width": null
          }
        },
        "30e22766e70443a18ea81aea2a2959fe": {
          "model_module": "@jupyter-widgets/controls",
          "model_name": "DescriptionStyleModel",
          "model_module_version": "1.5.0",
          "state": {
            "_model_module": "@jupyter-widgets/controls",
            "_model_module_version": "1.5.0",
            "_model_name": "DescriptionStyleModel",
            "_view_count": null,
            "_view_module": "@jupyter-widgets/base",
            "_view_module_version": "1.2.0",
            "_view_name": "StyleView",
            "description_width": ""
          }
        },
        "753d8494ae824ed39105eb4ab63e3a96": {
          "model_module": "@jupyter-widgets/controls",
          "model_name": "HBoxModel",
          "model_module_version": "1.5.0",
          "state": {
            "_dom_classes": [],
            "_model_module": "@jupyter-widgets/controls",
            "_model_module_version": "1.5.0",
            "_model_name": "HBoxModel",
            "_view_count": null,
            "_view_module": "@jupyter-widgets/controls",
            "_view_module_version": "1.5.0",
            "_view_name": "HBoxView",
            "box_style": "",
            "children": [
              "IPY_MODEL_4444bb72ff2e4c4d82a51d016a938c85",
              "IPY_MODEL_8d7aacef336b4d7bab44deea4a27f5f9",
              "IPY_MODEL_3ad8117eb612459cb1de91b7165d5c4f"
            ],
            "layout": "IPY_MODEL_a23b58e597cc441c9bd0c02e8359e79f"
          }
        },
        "4444bb72ff2e4c4d82a51d016a938c85": {
          "model_module": "@jupyter-widgets/controls",
          "model_name": "HTMLModel",
          "model_module_version": "1.5.0",
          "state": {
            "_dom_classes": [],
            "_model_module": "@jupyter-widgets/controls",
            "_model_module_version": "1.5.0",
            "_model_name": "HTMLModel",
            "_view_count": null,
            "_view_module": "@jupyter-widgets/controls",
            "_view_module_version": "1.5.0",
            "_view_name": "HTMLView",
            "description": "",
            "description_tooltip": null,
            "layout": "IPY_MODEL_c4965cd88d7d4b4c99eb60fbc35f3ae7",
            "placeholder": "​",
            "style": "IPY_MODEL_9581ecc7dc9848fa81a67e9b7a358e55",
            "value": "Downloading (…)lve/main/config.json: 100%"
          }
        },
        "8d7aacef336b4d7bab44deea4a27f5f9": {
          "model_module": "@jupyter-widgets/controls",
          "model_name": "FloatProgressModel",
          "model_module_version": "1.5.0",
          "state": {
            "_dom_classes": [],
            "_model_module": "@jupyter-widgets/controls",
            "_model_module_version": "1.5.0",
            "_model_name": "FloatProgressModel",
            "_view_count": null,
            "_view_module": "@jupyter-widgets/controls",
            "_view_module_version": "1.5.0",
            "_view_name": "ProgressView",
            "bar_style": "success",
            "description": "",
            "description_tooltip": null,
            "layout": "IPY_MODEL_b48fe3d4c1b04eaab5078dbc1b8e181e",
            "max": 481,
            "min": 0,
            "orientation": "horizontal",
            "style": "IPY_MODEL_bdc3ff954fbb49dd8d88483fbdcb5d2d",
            "value": 481
          }
        },
        "3ad8117eb612459cb1de91b7165d5c4f": {
          "model_module": "@jupyter-widgets/controls",
          "model_name": "HTMLModel",
          "model_module_version": "1.5.0",
          "state": {
            "_dom_classes": [],
            "_model_module": "@jupyter-widgets/controls",
            "_model_module_version": "1.5.0",
            "_model_name": "HTMLModel",
            "_view_count": null,
            "_view_module": "@jupyter-widgets/controls",
            "_view_module_version": "1.5.0",
            "_view_name": "HTMLView",
            "description": "",
            "description_tooltip": null,
            "layout": "IPY_MODEL_6fcc420b3cc441208e27bc2692878214",
            "placeholder": "​",
            "style": "IPY_MODEL_081d8dcfe530455585b7b8845d1bb585",
            "value": " 481/481 [00:00&lt;00:00, 23.1kB/s]"
          }
        },
        "a23b58e597cc441c9bd0c02e8359e79f": {
          "model_module": "@jupyter-widgets/base",
          "model_name": "LayoutModel",
          "model_module_version": "1.2.0",
          "state": {
            "_model_module": "@jupyter-widgets/base",
            "_model_module_version": "1.2.0",
            "_model_name": "LayoutModel",
            "_view_count": null,
            "_view_module": "@jupyter-widgets/base",
            "_view_module_version": "1.2.0",
            "_view_name": "LayoutView",
            "align_content": null,
            "align_items": null,
            "align_self": null,
            "border": null,
            "bottom": null,
            "display": null,
            "flex": null,
            "flex_flow": null,
            "grid_area": null,
            "grid_auto_columns": null,
            "grid_auto_flow": null,
            "grid_auto_rows": null,
            "grid_column": null,
            "grid_gap": null,
            "grid_row": null,
            "grid_template_areas": null,
            "grid_template_columns": null,
            "grid_template_rows": null,
            "height": null,
            "justify_content": null,
            "justify_items": null,
            "left": null,
            "margin": null,
            "max_height": null,
            "max_width": null,
            "min_height": null,
            "min_width": null,
            "object_fit": null,
            "object_position": null,
            "order": null,
            "overflow": null,
            "overflow_x": null,
            "overflow_y": null,
            "padding": null,
            "right": null,
            "top": null,
            "visibility": null,
            "width": null
          }
        },
        "c4965cd88d7d4b4c99eb60fbc35f3ae7": {
          "model_module": "@jupyter-widgets/base",
          "model_name": "LayoutModel",
          "model_module_version": "1.2.0",
          "state": {
            "_model_module": "@jupyter-widgets/base",
            "_model_module_version": "1.2.0",
            "_model_name": "LayoutModel",
            "_view_count": null,
            "_view_module": "@jupyter-widgets/base",
            "_view_module_version": "1.2.0",
            "_view_name": "LayoutView",
            "align_content": null,
            "align_items": null,
            "align_self": null,
            "border": null,
            "bottom": null,
            "display": null,
            "flex": null,
            "flex_flow": null,
            "grid_area": null,
            "grid_auto_columns": null,
            "grid_auto_flow": null,
            "grid_auto_rows": null,
            "grid_column": null,
            "grid_gap": null,
            "grid_row": null,
            "grid_template_areas": null,
            "grid_template_columns": null,
            "grid_template_rows": null,
            "height": null,
            "justify_content": null,
            "justify_items": null,
            "left": null,
            "margin": null,
            "max_height": null,
            "max_width": null,
            "min_height": null,
            "min_width": null,
            "object_fit": null,
            "object_position": null,
            "order": null,
            "overflow": null,
            "overflow_x": null,
            "overflow_y": null,
            "padding": null,
            "right": null,
            "top": null,
            "visibility": null,
            "width": null
          }
        },
        "9581ecc7dc9848fa81a67e9b7a358e55": {
          "model_module": "@jupyter-widgets/controls",
          "model_name": "DescriptionStyleModel",
          "model_module_version": "1.5.0",
          "state": {
            "_model_module": "@jupyter-widgets/controls",
            "_model_module_version": "1.5.0",
            "_model_name": "DescriptionStyleModel",
            "_view_count": null,
            "_view_module": "@jupyter-widgets/base",
            "_view_module_version": "1.2.0",
            "_view_name": "StyleView",
            "description_width": ""
          }
        },
        "b48fe3d4c1b04eaab5078dbc1b8e181e": {
          "model_module": "@jupyter-widgets/base",
          "model_name": "LayoutModel",
          "model_module_version": "1.2.0",
          "state": {
            "_model_module": "@jupyter-widgets/base",
            "_model_module_version": "1.2.0",
            "_model_name": "LayoutModel",
            "_view_count": null,
            "_view_module": "@jupyter-widgets/base",
            "_view_module_version": "1.2.0",
            "_view_name": "LayoutView",
            "align_content": null,
            "align_items": null,
            "align_self": null,
            "border": null,
            "bottom": null,
            "display": null,
            "flex": null,
            "flex_flow": null,
            "grid_area": null,
            "grid_auto_columns": null,
            "grid_auto_flow": null,
            "grid_auto_rows": null,
            "grid_column": null,
            "grid_gap": null,
            "grid_row": null,
            "grid_template_areas": null,
            "grid_template_columns": null,
            "grid_template_rows": null,
            "height": null,
            "justify_content": null,
            "justify_items": null,
            "left": null,
            "margin": null,
            "max_height": null,
            "max_width": null,
            "min_height": null,
            "min_width": null,
            "object_fit": null,
            "object_position": null,
            "order": null,
            "overflow": null,
            "overflow_x": null,
            "overflow_y": null,
            "padding": null,
            "right": null,
            "top": null,
            "visibility": null,
            "width": null
          }
        },
        "bdc3ff954fbb49dd8d88483fbdcb5d2d": {
          "model_module": "@jupyter-widgets/controls",
          "model_name": "ProgressStyleModel",
          "model_module_version": "1.5.0",
          "state": {
            "_model_module": "@jupyter-widgets/controls",
            "_model_module_version": "1.5.0",
            "_model_name": "ProgressStyleModel",
            "_view_count": null,
            "_view_module": "@jupyter-widgets/base",
            "_view_module_version": "1.2.0",
            "_view_name": "StyleView",
            "bar_color": null,
            "description_width": ""
          }
        },
        "6fcc420b3cc441208e27bc2692878214": {
          "model_module": "@jupyter-widgets/base",
          "model_name": "LayoutModel",
          "model_module_version": "1.2.0",
          "state": {
            "_model_module": "@jupyter-widgets/base",
            "_model_module_version": "1.2.0",
            "_model_name": "LayoutModel",
            "_view_count": null,
            "_view_module": "@jupyter-widgets/base",
            "_view_module_version": "1.2.0",
            "_view_name": "LayoutView",
            "align_content": null,
            "align_items": null,
            "align_self": null,
            "border": null,
            "bottom": null,
            "display": null,
            "flex": null,
            "flex_flow": null,
            "grid_area": null,
            "grid_auto_columns": null,
            "grid_auto_flow": null,
            "grid_auto_rows": null,
            "grid_column": null,
            "grid_gap": null,
            "grid_row": null,
            "grid_template_areas": null,
            "grid_template_columns": null,
            "grid_template_rows": null,
            "height": null,
            "justify_content": null,
            "justify_items": null,
            "left": null,
            "margin": null,
            "max_height": null,
            "max_width": null,
            "min_height": null,
            "min_width": null,
            "object_fit": null,
            "object_position": null,
            "order": null,
            "overflow": null,
            "overflow_x": null,
            "overflow_y": null,
            "padding": null,
            "right": null,
            "top": null,
            "visibility": null,
            "width": null
          }
        },
        "081d8dcfe530455585b7b8845d1bb585": {
          "model_module": "@jupyter-widgets/controls",
          "model_name": "DescriptionStyleModel",
          "model_module_version": "1.5.0",
          "state": {
            "_model_module": "@jupyter-widgets/controls",
            "_model_module_version": "1.5.0",
            "_model_name": "DescriptionStyleModel",
            "_view_count": null,
            "_view_module": "@jupyter-widgets/base",
            "_view_module_version": "1.2.0",
            "_view_name": "StyleView",
            "description_width": ""
          }
        },
        "75a46f0e7ea9418b8460b04c7101e39b": {
          "model_module": "@jupyter-widgets/controls",
          "model_name": "HBoxModel",
          "model_module_version": "1.5.0",
          "state": {
            "_dom_classes": [],
            "_model_module": "@jupyter-widgets/controls",
            "_model_module_version": "1.5.0",
            "_model_name": "HBoxModel",
            "_view_count": null,
            "_view_module": "@jupyter-widgets/controls",
            "_view_module_version": "1.5.0",
            "_view_name": "HBoxView",
            "box_style": "",
            "children": [
              "IPY_MODEL_1de581203b554baeb05e45eebae643c9",
              "IPY_MODEL_1cd205e50f45401aad5f5418d718e989",
              "IPY_MODEL_998ac6b3ae914afa9a7766063a3bbd24"
            ],
            "layout": "IPY_MODEL_c8fc6875d94441cfbd681fa2aab011fd"
          }
        },
        "1de581203b554baeb05e45eebae643c9": {
          "model_module": "@jupyter-widgets/controls",
          "model_name": "HTMLModel",
          "model_module_version": "1.5.0",
          "state": {
            "_dom_classes": [],
            "_model_module": "@jupyter-widgets/controls",
            "_model_module_version": "1.5.0",
            "_model_name": "HTMLModel",
            "_view_count": null,
            "_view_module": "@jupyter-widgets/controls",
            "_view_module_version": "1.5.0",
            "_view_name": "HTMLView",
            "description": "",
            "description_tooltip": null,
            "layout": "IPY_MODEL_6bce5203775d41399ce6476f2d246896",
            "placeholder": "​",
            "style": "IPY_MODEL_f9777c1b29ec4f528e1b20c43837011f",
            "value": "Downloading pytorch_model.bin: 100%"
          }
        },
        "1cd205e50f45401aad5f5418d718e989": {
          "model_module": "@jupyter-widgets/controls",
          "model_name": "FloatProgressModel",
          "model_module_version": "1.5.0",
          "state": {
            "_dom_classes": [],
            "_model_module": "@jupyter-widgets/controls",
            "_model_module_version": "1.5.0",
            "_model_name": "FloatProgressModel",
            "_view_count": null,
            "_view_module": "@jupyter-widgets/controls",
            "_view_module_version": "1.5.0",
            "_view_name": "ProgressView",
            "bar_style": "success",
            "description": "",
            "description_tooltip": null,
            "layout": "IPY_MODEL_41e6be841a66426a9b0f110cc6579584",
            "max": 501200538,
            "min": 0,
            "orientation": "horizontal",
            "style": "IPY_MODEL_9eb98343367f4ae4ac72b6310ce1ad67",
            "value": 501200538
          }
        },
        "998ac6b3ae914afa9a7766063a3bbd24": {
          "model_module": "@jupyter-widgets/controls",
          "model_name": "HTMLModel",
          "model_module_version": "1.5.0",
          "state": {
            "_dom_classes": [],
            "_model_module": "@jupyter-widgets/controls",
            "_model_module_version": "1.5.0",
            "_model_name": "HTMLModel",
            "_view_count": null,
            "_view_module": "@jupyter-widgets/controls",
            "_view_module_version": "1.5.0",
            "_view_name": "HTMLView",
            "description": "",
            "description_tooltip": null,
            "layout": "IPY_MODEL_bb821614b1cb4184a1e131e8729c0c99",
            "placeholder": "​",
            "style": "IPY_MODEL_414d92691aea4d02802e218228effa62",
            "value": " 501M/501M [00:02&lt;00:00, 261MB/s]"
          }
        },
        "c8fc6875d94441cfbd681fa2aab011fd": {
          "model_module": "@jupyter-widgets/base",
          "model_name": "LayoutModel",
          "model_module_version": "1.2.0",
          "state": {
            "_model_module": "@jupyter-widgets/base",
            "_model_module_version": "1.2.0",
            "_model_name": "LayoutModel",
            "_view_count": null,
            "_view_module": "@jupyter-widgets/base",
            "_view_module_version": "1.2.0",
            "_view_name": "LayoutView",
            "align_content": null,
            "align_items": null,
            "align_self": null,
            "border": null,
            "bottom": null,
            "display": null,
            "flex": null,
            "flex_flow": null,
            "grid_area": null,
            "grid_auto_columns": null,
            "grid_auto_flow": null,
            "grid_auto_rows": null,
            "grid_column": null,
            "grid_gap": null,
            "grid_row": null,
            "grid_template_areas": null,
            "grid_template_columns": null,
            "grid_template_rows": null,
            "height": null,
            "justify_content": null,
            "justify_items": null,
            "left": null,
            "margin": null,
            "max_height": null,
            "max_width": null,
            "min_height": null,
            "min_width": null,
            "object_fit": null,
            "object_position": null,
            "order": null,
            "overflow": null,
            "overflow_x": null,
            "overflow_y": null,
            "padding": null,
            "right": null,
            "top": null,
            "visibility": null,
            "width": null
          }
        },
        "6bce5203775d41399ce6476f2d246896": {
          "model_module": "@jupyter-widgets/base",
          "model_name": "LayoutModel",
          "model_module_version": "1.2.0",
          "state": {
            "_model_module": "@jupyter-widgets/base",
            "_model_module_version": "1.2.0",
            "_model_name": "LayoutModel",
            "_view_count": null,
            "_view_module": "@jupyter-widgets/base",
            "_view_module_version": "1.2.0",
            "_view_name": "LayoutView",
            "align_content": null,
            "align_items": null,
            "align_self": null,
            "border": null,
            "bottom": null,
            "display": null,
            "flex": null,
            "flex_flow": null,
            "grid_area": null,
            "grid_auto_columns": null,
            "grid_auto_flow": null,
            "grid_auto_rows": null,
            "grid_column": null,
            "grid_gap": null,
            "grid_row": null,
            "grid_template_areas": null,
            "grid_template_columns": null,
            "grid_template_rows": null,
            "height": null,
            "justify_content": null,
            "justify_items": null,
            "left": null,
            "margin": null,
            "max_height": null,
            "max_width": null,
            "min_height": null,
            "min_width": null,
            "object_fit": null,
            "object_position": null,
            "order": null,
            "overflow": null,
            "overflow_x": null,
            "overflow_y": null,
            "padding": null,
            "right": null,
            "top": null,
            "visibility": null,
            "width": null
          }
        },
        "f9777c1b29ec4f528e1b20c43837011f": {
          "model_module": "@jupyter-widgets/controls",
          "model_name": "DescriptionStyleModel",
          "model_module_version": "1.5.0",
          "state": {
            "_model_module": "@jupyter-widgets/controls",
            "_model_module_version": "1.5.0",
            "_model_name": "DescriptionStyleModel",
            "_view_count": null,
            "_view_module": "@jupyter-widgets/base",
            "_view_module_version": "1.2.0",
            "_view_name": "StyleView",
            "description_width": ""
          }
        },
        "41e6be841a66426a9b0f110cc6579584": {
          "model_module": "@jupyter-widgets/base",
          "model_name": "LayoutModel",
          "model_module_version": "1.2.0",
          "state": {
            "_model_module": "@jupyter-widgets/base",
            "_model_module_version": "1.2.0",
            "_model_name": "LayoutModel",
            "_view_count": null,
            "_view_module": "@jupyter-widgets/base",
            "_view_module_version": "1.2.0",
            "_view_name": "LayoutView",
            "align_content": null,
            "align_items": null,
            "align_self": null,
            "border": null,
            "bottom": null,
            "display": null,
            "flex": null,
            "flex_flow": null,
            "grid_area": null,
            "grid_auto_columns": null,
            "grid_auto_flow": null,
            "grid_auto_rows": null,
            "grid_column": null,
            "grid_gap": null,
            "grid_row": null,
            "grid_template_areas": null,
            "grid_template_columns": null,
            "grid_template_rows": null,
            "height": null,
            "justify_content": null,
            "justify_items": null,
            "left": null,
            "margin": null,
            "max_height": null,
            "max_width": null,
            "min_height": null,
            "min_width": null,
            "object_fit": null,
            "object_position": null,
            "order": null,
            "overflow": null,
            "overflow_x": null,
            "overflow_y": null,
            "padding": null,
            "right": null,
            "top": null,
            "visibility": null,
            "width": null
          }
        },
        "9eb98343367f4ae4ac72b6310ce1ad67": {
          "model_module": "@jupyter-widgets/controls",
          "model_name": "ProgressStyleModel",
          "model_module_version": "1.5.0",
          "state": {
            "_model_module": "@jupyter-widgets/controls",
            "_model_module_version": "1.5.0",
            "_model_name": "ProgressStyleModel",
            "_view_count": null,
            "_view_module": "@jupyter-widgets/base",
            "_view_module_version": "1.2.0",
            "_view_name": "StyleView",
            "bar_color": null,
            "description_width": ""
          }
        },
        "bb821614b1cb4184a1e131e8729c0c99": {
          "model_module": "@jupyter-widgets/base",
          "model_name": "LayoutModel",
          "model_module_version": "1.2.0",
          "state": {
            "_model_module": "@jupyter-widgets/base",
            "_model_module_version": "1.2.0",
            "_model_name": "LayoutModel",
            "_view_count": null,
            "_view_module": "@jupyter-widgets/base",
            "_view_module_version": "1.2.0",
            "_view_name": "LayoutView",
            "align_content": null,
            "align_items": null,
            "align_self": null,
            "border": null,
            "bottom": null,
            "display": null,
            "flex": null,
            "flex_flow": null,
            "grid_area": null,
            "grid_auto_columns": null,
            "grid_auto_flow": null,
            "grid_auto_rows": null,
            "grid_column": null,
            "grid_gap": null,
            "grid_row": null,
            "grid_template_areas": null,
            "grid_template_columns": null,
            "grid_template_rows": null,
            "height": null,
            "justify_content": null,
            "justify_items": null,
            "left": null,
            "margin": null,
            "max_height": null,
            "max_width": null,
            "min_height": null,
            "min_width": null,
            "object_fit": null,
            "object_position": null,
            "order": null,
            "overflow": null,
            "overflow_x": null,
            "overflow_y": null,
            "padding": null,
            "right": null,
            "top": null,
            "visibility": null,
            "width": null
          }
        },
        "414d92691aea4d02802e218228effa62": {
          "model_module": "@jupyter-widgets/controls",
          "model_name": "DescriptionStyleModel",
          "model_module_version": "1.5.0",
          "state": {
            "_model_module": "@jupyter-widgets/controls",
            "_model_module_version": "1.5.0",
            "_model_name": "DescriptionStyleModel",
            "_view_count": null,
            "_view_module": "@jupyter-widgets/base",
            "_view_module_version": "1.2.0",
            "_view_name": "StyleView",
            "description_width": ""
          }
        }
      }
    }
  },
  "nbformat": 4,
  "nbformat_minor": 0
}
